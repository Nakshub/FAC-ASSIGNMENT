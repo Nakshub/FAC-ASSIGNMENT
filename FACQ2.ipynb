{
 "cells": [
  {
   "cell_type": "code",
   "execution_count": 1,
   "id": "540e55ea-de50-445e-b0bc-391d488e6cef",
   "metadata": {},
   "outputs": [],
   "source": [
    "import pandas as pd\n",
    "import yfinance as yf\n",
    "import matplotlib.pyplot as plt\n",
    "import numpy as np"
   ]
  },
  {
   "cell_type": "code",
   "execution_count": 2,
   "id": "04fe1587-44d7-48be-89cd-331ffb7ab2af",
   "metadata": {},
   "outputs": [
    {
     "name": "stderr",
     "output_type": "stream",
     "text": [
      "\n",
      "*********************100%***********************]  3 of 3 completed"
     ]
    }
   ],
   "source": [
    "data=yf.download([\"AAPL\",\"MSFT\",\"GOOGL\"],period=\"6mo\")[[\"Adj Close\"]]"
   ]
  },
  {
   "cell_type": "code",
   "execution_count": 4,
   "id": "22fe6593-ece4-4968-be1d-74e33a84d708",
   "metadata": {},
   "outputs": [],
   "source": [
    "data.columns = data.columns.get_level_values(1)\n",
    "data[\"AAPL\"]=data[\"AAPL\"].pct_change()"
   ]
  },
  {
   "cell_type": "code",
   "execution_count": 5,
   "id": "882a4399-590c-4185-8636-6635190c511a",
   "metadata": {},
   "outputs": [],
   "source": [
    "data[\"MSFT\"]=data[\"MSFT\"].pct_change()\n",
    "data[\"GOOGL\"]=data[\"GOOGL\"].pct_change()"
   ]
  },
  {
   "cell_type": "code",
   "execution_count": 6,
   "id": "c5521b16-5f36-4edd-98ba-19fe37cf3247",
   "metadata": {},
   "outputs": [
    {
     "data": {
      "text/html": [
       "<div>\n",
       "<style scoped>\n",
       "    .dataframe tbody tr th:only-of-type {\n",
       "        vertical-align: middle;\n",
       "    }\n",
       "\n",
       "    .dataframe tbody tr th {\n",
       "        vertical-align: top;\n",
       "    }\n",
       "\n",
       "    .dataframe thead th {\n",
       "        text-align: right;\n",
       "    }\n",
       "</style>\n",
       "<table border=\"1\" class=\"dataframe\">\n",
       "  <thead>\n",
       "    <tr style=\"text-align: right;\">\n",
       "      <th>Ticker</th>\n",
       "      <th>AAPL</th>\n",
       "      <th>GOOGL</th>\n",
       "      <th>MSFT</th>\n",
       "    </tr>\n",
       "    <tr>\n",
       "      <th>Date</th>\n",
       "      <th></th>\n",
       "      <th></th>\n",
       "      <th></th>\n",
       "    </tr>\n",
       "  </thead>\n",
       "  <tbody>\n",
       "    <tr>\n",
       "      <th>2024-06-14</th>\n",
       "      <td>NaN</td>\n",
       "      <td>NaN</td>\n",
       "      <td>NaN</td>\n",
       "    </tr>\n",
       "    <tr>\n",
       "      <th>2024-06-17</th>\n",
       "      <td>0.019672</td>\n",
       "      <td>0.002545</td>\n",
       "      <td>0.013105</td>\n",
       "    </tr>\n",
       "    <tr>\n",
       "      <th>2024-06-18</th>\n",
       "      <td>-0.010985</td>\n",
       "      <td>-0.012131</td>\n",
       "      <td>-0.004527</td>\n",
       "    </tr>\n",
       "    <tr>\n",
       "      <th>2024-06-20</th>\n",
       "      <td>-0.021513</td>\n",
       "      <td>0.006911</td>\n",
       "      <td>-0.001434</td>\n",
       "    </tr>\n",
       "    <tr>\n",
       "      <th>2024-06-21</th>\n",
       "      <td>-0.010444</td>\n",
       "      <td>0.018888</td>\n",
       "      <td>0.009154</td>\n",
       "    </tr>\n",
       "  </tbody>\n",
       "</table>\n",
       "</div>"
      ],
      "text/plain": [
       "Ticker          AAPL     GOOGL      MSFT\n",
       "Date                                    \n",
       "2024-06-14       NaN       NaN       NaN\n",
       "2024-06-17  0.019672  0.002545  0.013105\n",
       "2024-06-18 -0.010985 -0.012131 -0.004527\n",
       "2024-06-20 -0.021513  0.006911 -0.001434\n",
       "2024-06-21 -0.010444  0.018888  0.009154"
      ]
     },
     "execution_count": 6,
     "metadata": {},
     "output_type": "execute_result"
    }
   ],
   "source": [
    "data.head()"
   ]
  },
  {
   "cell_type": "code",
   "execution_count": 7,
   "id": "39f449e8-0328-46c0-9aaf-e20f1dc14fda",
   "metadata": {},
   "outputs": [],
   "source": [
    "data[\"AAPLR\"]=(1+data[\"AAPL\"]).cumprod()\n",
    "data[\"MSFTR\"]=(1+data[\"MSFT\"]).cumprod()\n",
    "data[\"GOOGLR\"]=(1+data[\"GOOGL\"]).cumprod()"
   ]
  },
  {
   "cell_type": "code",
   "execution_count": 8,
   "id": "462e00f6-72ea-4f46-9675-2cb97c36ffda",
   "metadata": {},
   "outputs": [
    {
     "data": {
      "text/html": [
       "<div>\n",
       "<style scoped>\n",
       "    .dataframe tbody tr th:only-of-type {\n",
       "        vertical-align: middle;\n",
       "    }\n",
       "\n",
       "    .dataframe tbody tr th {\n",
       "        vertical-align: top;\n",
       "    }\n",
       "\n",
       "    .dataframe thead th {\n",
       "        text-align: right;\n",
       "    }\n",
       "</style>\n",
       "<table border=\"1\" class=\"dataframe\">\n",
       "  <thead>\n",
       "    <tr style=\"text-align: right;\">\n",
       "      <th>Ticker</th>\n",
       "      <th>AAPL</th>\n",
       "      <th>GOOGL</th>\n",
       "      <th>MSFT</th>\n",
       "      <th>AAPLR</th>\n",
       "      <th>MSFTR</th>\n",
       "      <th>GOOGLR</th>\n",
       "    </tr>\n",
       "    <tr>\n",
       "      <th>Date</th>\n",
       "      <th></th>\n",
       "      <th></th>\n",
       "      <th></th>\n",
       "      <th></th>\n",
       "      <th></th>\n",
       "      <th></th>\n",
       "    </tr>\n",
       "  </thead>\n",
       "  <tbody>\n",
       "    <tr>\n",
       "      <th>2024-06-14</th>\n",
       "      <td>NaN</td>\n",
       "      <td>NaN</td>\n",
       "      <td>NaN</td>\n",
       "      <td>NaN</td>\n",
       "      <td>NaN</td>\n",
       "      <td>NaN</td>\n",
       "    </tr>\n",
       "    <tr>\n",
       "      <th>2024-06-17</th>\n",
       "      <td>0.019672</td>\n",
       "      <td>0.002545</td>\n",
       "      <td>0.013105</td>\n",
       "      <td>1.019672</td>\n",
       "      <td>1.013105</td>\n",
       "      <td>1.002545</td>\n",
       "    </tr>\n",
       "    <tr>\n",
       "      <th>2024-06-18</th>\n",
       "      <td>-0.010985</td>\n",
       "      <td>-0.012131</td>\n",
       "      <td>-0.004527</td>\n",
       "      <td>1.008471</td>\n",
       "      <td>1.008518</td>\n",
       "      <td>0.990384</td>\n",
       "    </tr>\n",
       "    <tr>\n",
       "      <th>2024-06-20</th>\n",
       "      <td>-0.021513</td>\n",
       "      <td>0.006911</td>\n",
       "      <td>-0.001434</td>\n",
       "      <td>0.986776</td>\n",
       "      <td>1.007072</td>\n",
       "      <td>0.997228</td>\n",
       "    </tr>\n",
       "    <tr>\n",
       "      <th>2024-06-21</th>\n",
       "      <td>-0.010444</td>\n",
       "      <td>0.018888</td>\n",
       "      <td>0.009154</td>\n",
       "      <td>0.976470</td>\n",
       "      <td>1.016291</td>\n",
       "      <td>1.016064</td>\n",
       "    </tr>\n",
       "    <tr>\n",
       "      <th>...</th>\n",
       "      <td>...</td>\n",
       "      <td>...</td>\n",
       "      <td>...</td>\n",
       "      <td>...</td>\n",
       "      <td>...</td>\n",
       "      <td>...</td>\n",
       "    </tr>\n",
       "    <tr>\n",
       "      <th>2024-12-09</th>\n",
       "      <td>0.016101</td>\n",
       "      <td>0.004928</td>\n",
       "      <td>0.005523</td>\n",
       "      <td>1.163854</td>\n",
       "      <td>1.011633</td>\n",
       "      <td>0.994423</td>\n",
       "    </tr>\n",
       "    <tr>\n",
       "      <th>2024-12-10</th>\n",
       "      <td>0.004134</td>\n",
       "      <td>0.055882</td>\n",
       "      <td>-0.006031</td>\n",
       "      <td>1.168665</td>\n",
       "      <td>1.005531</td>\n",
       "      <td>1.049993</td>\n",
       "    </tr>\n",
       "    <tr>\n",
       "      <th>2024-12-11</th>\n",
       "      <td>-0.005166</td>\n",
       "      <td>0.055247</td>\n",
       "      <td>0.012767</td>\n",
       "      <td>1.162628</td>\n",
       "      <td>1.018369</td>\n",
       "      <td>1.108001</td>\n",
       "    </tr>\n",
       "    <tr>\n",
       "      <th>2024-12-12</th>\n",
       "      <td>0.005964</td>\n",
       "      <td>-0.017605</td>\n",
       "      <td>0.001270</td>\n",
       "      <td>1.169562</td>\n",
       "      <td>1.019662</td>\n",
       "      <td>1.088495</td>\n",
       "    </tr>\n",
       "    <tr>\n",
       "      <th>2024-12-13</th>\n",
       "      <td>0.000686</td>\n",
       "      <td>-0.011148</td>\n",
       "      <td>-0.005094</td>\n",
       "      <td>1.170363</td>\n",
       "      <td>1.014468</td>\n",
       "      <td>1.076360</td>\n",
       "    </tr>\n",
       "  </tbody>\n",
       "</table>\n",
       "<p>127 rows × 6 columns</p>\n",
       "</div>"
      ],
      "text/plain": [
       "Ticker          AAPL     GOOGL      MSFT     AAPLR     MSFTR    GOOGLR\n",
       "Date                                                                  \n",
       "2024-06-14       NaN       NaN       NaN       NaN       NaN       NaN\n",
       "2024-06-17  0.019672  0.002545  0.013105  1.019672  1.013105  1.002545\n",
       "2024-06-18 -0.010985 -0.012131 -0.004527  1.008471  1.008518  0.990384\n",
       "2024-06-20 -0.021513  0.006911 -0.001434  0.986776  1.007072  0.997228\n",
       "2024-06-21 -0.010444  0.018888  0.009154  0.976470  1.016291  1.016064\n",
       "...              ...       ...       ...       ...       ...       ...\n",
       "2024-12-09  0.016101  0.004928  0.005523  1.163854  1.011633  0.994423\n",
       "2024-12-10  0.004134  0.055882 -0.006031  1.168665  1.005531  1.049993\n",
       "2024-12-11 -0.005166  0.055247  0.012767  1.162628  1.018369  1.108001\n",
       "2024-12-12  0.005964 -0.017605  0.001270  1.169562  1.019662  1.088495\n",
       "2024-12-13  0.000686 -0.011148 -0.005094  1.170363  1.014468  1.076360\n",
       "\n",
       "[127 rows x 6 columns]"
      ]
     },
     "execution_count": 8,
     "metadata": {},
     "output_type": "execute_result"
    }
   ],
   "source": [
    "data"
   ]
  },
  {
   "cell_type": "code",
   "execution_count": 10,
   "id": "e59e266c-80cb-4609-b9ba-38e04c0343bc",
   "metadata": {},
   "outputs": [
    {
     "data": {
      "image/png": "[encoded data removed]",
      "text/plain": [
       "<Figure size 640x480 with 1 Axes>"
      ]
     },
     "metadata": {},
     "output_type": "display_data"
    }
   ],
   "source": [
    "plt.plot(data[\"AAPLR\"],label=\"aaple\")\n",
    "plt.plot(data[\"MSFTR\"],label=\"microsoft\")\n",
    "plt.plot(data[\"GOOGLR\"],label=\"google\")\n",
    "plt.xlabel=\"year\"\n",
    "plt.ylabel=\"return\"\n",
    "plt.legend()\n",
    "plt.show()"
   ]
  },
  {
   "cell_type": "code",
   "execution_count": 12,
   "id": "69bf55d0-9874-4595-bc60-eeb8464d9a7f",
   "metadata": {},
   "outputs": [],
   "source": [
    "data[\"AAPLRS\"]=data[\"AAPLR\"]*3333.33\n",
    "data[\"MSFTRS\"]=data[\"MSFTR\"]*3333.33\n",
    "data[\"GOOGLRS\"]=data[\"GOOGLR\"]*3333.33"
   ]
  },
  {
   "cell_type": "code",
   "execution_count": 13,
   "id": "cc0d6cf7-364b-4864-ba34-3e1da146d486",
   "metadata": {},
   "outputs": [
    {
     "data": {
      "text/html": [
       "<div>\n",
       "<style scoped>\n",
       "    .dataframe tbody tr th:only-of-type {\n",
       "        vertical-align: middle;\n",
       "    }\n",
       "\n",
       "    .dataframe tbody tr th {\n",
       "        vertical-align: top;\n",
       "    }\n",
       "\n",
       "    .dataframe thead th {\n",
       "        text-align: right;\n",
       "    }\n",
       "</style>\n",
       "<table border=\"1\" class=\"dataframe\">\n",
       "  <thead>\n",
       "    <tr style=\"text-align: right;\">\n",
       "      <th>Ticker</th>\n",
       "      <th>AAPL</th>\n",
       "      <th>GOOGL</th>\n",
       "      <th>MSFT</th>\n",
       "      <th>AAPLR</th>\n",
       "      <th>MSFTR</th>\n",
       "      <th>GOOGLR</th>\n",
       "      <th>AAPLRS</th>\n",
       "      <th>MSFTRS</th>\n",
       "      <th>GOOGLRS</th>\n",
       "    </tr>\n",
       "    <tr>\n",
       "      <th>Date</th>\n",
       "      <th></th>\n",
       "      <th></th>\n",
       "      <th></th>\n",
       "      <th></th>\n",
       "      <th></th>\n",
       "      <th></th>\n",
       "      <th></th>\n",
       "      <th></th>\n",
       "      <th></th>\n",
       "    </tr>\n",
       "  </thead>\n",
       "  <tbody>\n",
       "    <tr>\n",
       "      <th>2024-06-14</th>\n",
       "      <td>NaN</td>\n",
       "      <td>NaN</td>\n",
       "      <td>NaN</td>\n",
       "      <td>NaN</td>\n",
       "      <td>NaN</td>\n",
       "      <td>NaN</td>\n",
       "      <td>NaN</td>\n",
       "      <td>NaN</td>\n",
       "      <td>NaN</td>\n",
       "    </tr>\n",
       "    <tr>\n",
       "      <th>2024-06-17</th>\n",
       "      <td>0.019672</td>\n",
       "      <td>0.002545</td>\n",
       "      <td>0.013105</td>\n",
       "      <td>1.019672</td>\n",
       "      <td>1.013105</td>\n",
       "      <td>1.002545</td>\n",
       "      <td>3398.901634</td>\n",
       "      <td>3377.014083</td>\n",
       "      <td>3341.814806</td>\n",
       "    </tr>\n",
       "    <tr>\n",
       "      <th>2024-06-18</th>\n",
       "      <td>-0.010985</td>\n",
       "      <td>-0.012131</td>\n",
       "      <td>-0.004527</td>\n",
       "      <td>1.008471</td>\n",
       "      <td>1.008518</td>\n",
       "      <td>0.990384</td>\n",
       "      <td>3361.566373</td>\n",
       "      <td>3361.724781</td>\n",
       "      <td>3301.276703</td>\n",
       "    </tr>\n",
       "    <tr>\n",
       "      <th>2024-06-20</th>\n",
       "      <td>-0.021513</td>\n",
       "      <td>0.006911</td>\n",
       "      <td>-0.001434</td>\n",
       "      <td>0.986776</td>\n",
       "      <td>1.007072</td>\n",
       "      <td>0.997228</td>\n",
       "      <td>3289.249562</td>\n",
       "      <td>3356.904449</td>\n",
       "      <td>3324.090995</td>\n",
       "    </tr>\n",
       "    <tr>\n",
       "      <th>2024-06-21</th>\n",
       "      <td>-0.010444</td>\n",
       "      <td>0.018888</td>\n",
       "      <td>0.009154</td>\n",
       "      <td>0.976470</td>\n",
       "      <td>1.016291</td>\n",
       "      <td>1.016064</td>\n",
       "      <td>3254.895124</td>\n",
       "      <td>3387.633949</td>\n",
       "      <td>3386.877524</td>\n",
       "    </tr>\n",
       "    <tr>\n",
       "      <th>...</th>\n",
       "      <td>...</td>\n",
       "      <td>...</td>\n",
       "      <td>...</td>\n",
       "      <td>...</td>\n",
       "      <td>...</td>\n",
       "      <td>...</td>\n",
       "      <td>...</td>\n",
       "      <td>...</td>\n",
       "      <td>...</td>\n",
       "    </tr>\n",
       "    <tr>\n",
       "      <th>2024-12-09</th>\n",
       "      <td>0.016101</td>\n",
       "      <td>0.004928</td>\n",
       "      <td>0.005523</td>\n",
       "      <td>1.163854</td>\n",
       "      <td>1.011633</td>\n",
       "      <td>0.994423</td>\n",
       "      <td>3879.510381</td>\n",
       "      <td>3372.105614</td>\n",
       "      <td>3314.738355</td>\n",
       "    </tr>\n",
       "    <tr>\n",
       "      <th>2024-12-10</th>\n",
       "      <td>0.004134</td>\n",
       "      <td>0.055882</td>\n",
       "      <td>-0.006031</td>\n",
       "      <td>1.168665</td>\n",
       "      <td>1.005531</td>\n",
       "      <td>1.049993</td>\n",
       "      <td>3895.547330</td>\n",
       "      <td>3351.768023</td>\n",
       "      <td>3499.972129</td>\n",
       "    </tr>\n",
       "    <tr>\n",
       "      <th>2024-12-11</th>\n",
       "      <td>-0.005166</td>\n",
       "      <td>0.055247</td>\n",
       "      <td>0.012767</td>\n",
       "      <td>1.162628</td>\n",
       "      <td>1.018369</td>\n",
       "      <td>1.108001</td>\n",
       "      <td>3875.422635</td>\n",
       "      <td>3394.560119</td>\n",
       "      <td>3693.333366</td>\n",
       "    </tr>\n",
       "    <tr>\n",
       "      <th>2024-12-12</th>\n",
       "      <td>0.005964</td>\n",
       "      <td>-0.017605</td>\n",
       "      <td>0.001270</td>\n",
       "      <td>1.169562</td>\n",
       "      <td>1.019662</td>\n",
       "      <td>1.088495</td>\n",
       "      <td>3898.534631</td>\n",
       "      <td>3398.869622</td>\n",
       "      <td>3628.312794</td>\n",
       "    </tr>\n",
       "    <tr>\n",
       "      <th>2024-12-13</th>\n",
       "      <td>0.000686</td>\n",
       "      <td>-0.011148</td>\n",
       "      <td>-0.005094</td>\n",
       "      <td>1.170363</td>\n",
       "      <td>1.014468</td>\n",
       "      <td>1.076360</td>\n",
       "      <td>3901.207415</td>\n",
       "      <td>3381.556159</td>\n",
       "      <td>3587.863810</td>\n",
       "    </tr>\n",
       "  </tbody>\n",
       "</table>\n",
       "<p>127 rows × 9 columns</p>\n",
       "</div>"
      ],
      "text/plain": [
       "Ticker          AAPL     GOOGL      MSFT     AAPLR     MSFTR    GOOGLR  \\\n",
       "Date                                                                     \n",
       "2024-06-14       NaN       NaN       NaN       NaN       NaN       NaN   \n",
       "2024-06-17  0.019672  0.002545  0.013105  1.019672  1.013105  1.002545   \n",
       "2024-06-18 -0.010985 -0.012131 -0.004527  1.008471  1.008518  0.990384   \n",
       "2024-06-20 -0.021513  0.006911 -0.001434  0.986776  1.007072  0.997228   \n",
       "2024-06-21 -0.010444  0.018888  0.009154  0.976470  1.016291  1.016064   \n",
       "...              ...       ...       ...       ...       ...       ...   \n",
       "2024-12-09  0.016101  0.004928  0.005523  1.163854  1.011633  0.994423   \n",
       "2024-12-10  0.004134  0.055882 -0.006031  1.168665  1.005531  1.049993   \n",
       "2024-12-11 -0.005166  0.055247  0.012767  1.162628  1.018369  1.108001   \n",
       "2024-12-12  0.005964 -0.017605  0.001270  1.169562  1.019662  1.088495   \n",
       "2024-12-13  0.000686 -0.011148 -0.005094  1.170363  1.014468  1.076360   \n",
       "\n",
       "Ticker           AAPLRS       MSFTRS      GOOGLRS  \n",
       "Date                                               \n",
       "2024-06-14          NaN          NaN          NaN  \n",
       "2024-06-17  3398.901634  3377.014083  3341.814806  \n",
       "2024-06-18  3361.566373  3361.724781  3301.276703  \n",
       "2024-06-20  3289.249562  3356.904449  3324.090995  \n",
       "2024-06-21  3254.895124  3387.633949  3386.877524  \n",
       "...                 ...          ...          ...  \n",
       "2024-12-09  3879.510381  3372.105614  3314.738355  \n",
       "2024-12-10  3895.547330  3351.768023  3499.972129  \n",
       "2024-12-11  3875.422635  3394.560119  3693.333366  \n",
       "2024-12-12  3898.534631  3398.869622  3628.312794  \n",
       "2024-12-13  3901.207415  3381.556159  3587.863810  \n",
       "\n",
       "[127 rows x 9 columns]"
      ]
     },
     "execution_count": 13,
     "metadata": {},
     "output_type": "execute_result"
    }
   ],
   "source": [
    "data"
   ]
  },
  {
   "cell_type": "code",
   "execution_count": 19,
   "id": "940ed782-675a-46de-818f-c18706b7a813",
   "metadata": {},
   "outputs": [],
   "source": [
    "tickers=[\"AAPL\",\"GOOGL\",\"MSFT\"]\n",
    "ndata=data[tickers]"
   ]
  },
  {
   "cell_type": "code",
   "execution_count": 20,
   "id": "fb1835dc-6558-4e45-9cf0-54f015bbeea5",
   "metadata": {},
   "outputs": [
    {
     "data": {
      "text/html": [
       "<div>\n",
       "<style scoped>\n",
       "    .dataframe tbody tr th:only-of-type {\n",
       "        vertical-align: middle;\n",
       "    }\n",
       "\n",
       "    .dataframe tbody tr th {\n",
       "        vertical-align: top;\n",
       "    }\n",
       "\n",
       "    .dataframe thead th {\n",
       "        text-align: right;\n",
       "    }\n",
       "</style>\n",
       "<table border=\"1\" class=\"dataframe\">\n",
       "  <thead>\n",
       "    <tr style=\"text-align: right;\">\n",
       "      <th>Ticker</th>\n",
       "      <th>AAPL</th>\n",
       "      <th>GOOGL</th>\n",
       "      <th>MSFT</th>\n",
       "    </tr>\n",
       "    <tr>\n",
       "      <th>Date</th>\n",
       "      <th></th>\n",
       "      <th></th>\n",
       "      <th></th>\n",
       "    </tr>\n",
       "  </thead>\n",
       "  <tbody>\n",
       "    <tr>\n",
       "      <th>2024-06-14</th>\n",
       "      <td>NaN</td>\n",
       "      <td>NaN</td>\n",
       "      <td>NaN</td>\n",
       "    </tr>\n",
       "    <tr>\n",
       "      <th>2024-06-17</th>\n",
       "      <td>0.019672</td>\n",
       "      <td>0.002545</td>\n",
       "      <td>0.013105</td>\n",
       "    </tr>\n",
       "    <tr>\n",
       "      <th>2024-06-18</th>\n",
       "      <td>-0.010985</td>\n",
       "      <td>-0.012131</td>\n",
       "      <td>-0.004527</td>\n",
       "    </tr>\n",
       "    <tr>\n",
       "      <th>2024-06-20</th>\n",
       "      <td>-0.021513</td>\n",
       "      <td>0.006911</td>\n",
       "      <td>-0.001434</td>\n",
       "    </tr>\n",
       "    <tr>\n",
       "      <th>2024-06-21</th>\n",
       "      <td>-0.010444</td>\n",
       "      <td>0.018888</td>\n",
       "      <td>0.009154</td>\n",
       "    </tr>\n",
       "  </tbody>\n",
       "</table>\n",
       "</div>"
      ],
      "text/plain": [
       "Ticker          AAPL     GOOGL      MSFT\n",
       "Date                                    \n",
       "2024-06-14       NaN       NaN       NaN\n",
       "2024-06-17  0.019672  0.002545  0.013105\n",
       "2024-06-18 -0.010985 -0.012131 -0.004527\n",
       "2024-06-20 -0.021513  0.006911 -0.001434\n",
       "2024-06-21 -0.010444  0.018888  0.009154"
      ]
     },
     "execution_count": 20,
     "metadata": {},
     "output_type": "execute_result"
    }
   ],
   "source": [
    "ndata.head()"
   ]
  },
  {
   "cell_type": "code",
   "execution_count": 23,
   "id": "601d4f82-3e9c-45d1-be72-505d5548f632",
   "metadata": {},
   "outputs": [],
   "source": [
    "weights=np.array([0.3,0.3,0.3])\n",
    "portfolio_1 = ndata.dot(weights)"
   ]
  },
  {
   "cell_type": "code",
   "execution_count": 24,
   "id": "141d8117-9dab-468f-8f43-72348050af3c",
   "metadata": {},
   "outputs": [
    {
     "data": {
      "text/plain": [
       "Date\n",
       "2024-06-14         NaN\n",
       "2024-06-17    0.010597\n",
       "2024-06-18   -0.008293\n",
       "2024-06-20   -0.004811\n",
       "2024-06-21    0.005279\n",
       "dtype: float64"
      ]
     },
     "execution_count": 24,
     "metadata": {},
     "output_type": "execute_result"
    }
   ],
   "source": [
    "portfolio_1.head()"
   ]
  },
  {
   "cell_type": "code",
   "execution_count": 25,
   "id": "6cbbd550-bfb1-4445-8d09-5e8d4336d0b6",
   "metadata": {},
   "outputs": [],
   "source": [
    "portfolioreturn=(1+portfolio_1).cumprod()"
   ]
  },
  {
   "cell_type": "code",
   "execution_count": 26,
   "id": "1bdc5b66-d162-4f2f-97e2-eb21db7e92b8",
   "metadata": {},
   "outputs": [
    {
     "data": {
      "text/plain": [
       "[<matplotlib.lines.Line2D at 0x10d57a710>]"
      ]
     },
     "execution_count": 26,
     "metadata": {},
     "output_type": "execute_result"
    },
    {
     "data": {
      "image/png": "[encoded data removed]",
      "text/plain": [
       "<Figure size 640x480 with 1 Axes>"
      ]
     },
     "metadata": {},
     "output_type": "display_data"
    }
   ],
   "source": [
    "plt.plot(portfolioreturn)"
   ]
  },
  {
   "cell_type": "code",
   "execution_count": 27,
   "id": "639e1a41-3cfe-4cd5-9ef7-be0ba04652aa",
   "metadata": {},
   "outputs": [
    {
     "data": {
      "text/plain": [
       "Date\n",
       "2024-06-14         NaN\n",
       "2024-06-17    1.010597\n",
       "2024-06-18    1.002216\n",
       "2024-06-20    0.997395\n",
       "2024-06-21    1.002660\n",
       "                ...   \n",
       "2024-12-09    1.052812\n",
       "2024-12-10    1.069862\n",
       "2024-12-11    1.090034\n",
       "2024-12-12    1.086642\n",
       "2024-12-13    1.081571\n",
       "Length: 127, dtype: float64"
      ]
     },
     "execution_count": 27,
     "metadata": {},
     "output_type": "execute_result"
    }
   ],
   "source": [
    "print(\"TOTAL PORTFOLIO VALUE =\",portfolioreturn[\"2024-12-13\"]"
   ]
  },
  {
   "cell_type": "code",
   "execution_count": null,
   "id": "bbd3f395-c4d7-433b-bce2-31c127188df7",
   "metadata": {},
   "outputs": [],
   "source": []
  },
  {
   "cell_type": "code",
   "execution_count": null,
   "id": "a9fa22b6-5f32-4233-90bc-f9e9a03639d1",
   "metadata": {},
   "outputs": [],
   "source": []
  },
  {
   "cell_type": "code",
   "execution_count": null,
   "id": "dd70a973-8ead-4d90-bd93-dac08ecd307b",
   "metadata": {},
   "outputs": [],
   "source": []
  },
  {
   "cell_type": "code",
   "execution_count": null,
   "id": "3ab72f5e-c3ed-43bc-922f-d05c00f8d6dc",
   "metadata": {},
   "outputs": [],
   "source": []
  },
  {
   "cell_type": "code",
   "execution_count": null,
   "id": "6e77b5fd-12b5-417d-96cd-c561698118b3",
   "metadata": {},
   "outputs": [],
   "source": []
  },
  {
   "cell_type": "code",
   "execution_count": null,
   "id": "94faedfe-e375-4b4f-9f33-c847b74300a7",
   "metadata": {},
   "outputs": [],
   "source": []
  },
  {
   "cell_type": "code",
   "execution_count": null,
   "id": "c92744f7-c851-4740-9774-add0a071f34e",
   "metadata": {},
   "outputs": [],
   "source": []
  },
  {
   "cell_type": "code",
   "execution_count": null,
   "id": "c80c0aa4-576e-441e-a08c-a87816f76685",
   "metadata": {},
   "outputs": [],
   "source": []
  },
  {
   "cell_type": "code",
   "execution_count": null,
   "id": "e04a1adf-a8d5-4ccf-a4c6-d83d6f0b11db",
   "metadata": {},
   "outputs": [],
   "source": []
  },
  {
   "cell_type": "code",
   "execution_count": null,
   "id": "b400ffa3-24ff-476f-96ba-63430483f079",
   "metadata": {},
   "outputs": [],
   "source": []
  },
  {
   "cell_type": "code",
   "execution_count": null,
   "id": "8f718687-b103-470c-a211-395c9f033d4c",
   "metadata": {},
   "outputs": [],
   "source": []
  }
 ],
 "metadata": {
  "kernelspec": {
   "display_name": "Python 3 (ipykernel)",
   "language": "python",
   "name": "python3"
  },
  "language_info": {
   "codemirror_mode": {
    "name": "ipython",
    "version": 3
   },
   "file_extension": ".py",
   "mimetype": "text/x-python",
   "name": "python",
   "nbconvert_exporter": "python",
   "pygments_lexer": "ipython3",
   "version": "3.13.1"
  }
 },
 "nbformat": 4,
 "nbformat_minor": 5
}
